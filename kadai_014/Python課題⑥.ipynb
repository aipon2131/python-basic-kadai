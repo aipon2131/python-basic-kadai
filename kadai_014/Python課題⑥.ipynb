{
  "nbformat": 4,
  "nbformat_minor": 0,
  "metadata": {
    "colab": {
      "provenance": []
    },
    "kernelspec": {
      "name": "python3",
      "display_name": "Python 3"
    },
    "language_info": {
      "name": "python"
    }
  },
  "cells": [
    {
      "cell_type": "code",
      "execution_count": 1,
      "metadata": {
        "colab": {
          "base_uri": "https://localhost:8080/"
        },
        "id": "6NILm433wDD9",
        "outputId": "516c823a-7a3e-4da6-c610-17a89e1afaba"
      },
      "outputs": [
        {
          "output_type": "stream",
          "name": "stdout",
          "text": [
            "330.0\n"
          ]
        }
      ],
      "source": [
        "def total(price1 ,price2):\n",
        "    total = price1 + price2\n",
        "    return total\n",
        "\n",
        "result = total(100 ,200)\n",
        "tax = 1.1\n",
        "print(result*tax)"
      ]
    }
  ]
}