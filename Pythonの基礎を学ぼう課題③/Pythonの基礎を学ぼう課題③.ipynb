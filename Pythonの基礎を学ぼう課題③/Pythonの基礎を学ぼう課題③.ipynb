{
  "nbformat": 4,
  "nbformat_minor": 0,
  "metadata": {
    "colab": {
      "provenance": []
    },
    "kernelspec": {
      "name": "python3",
      "display_name": "Python 3"
    },
    "language_info": {
      "name": "python"
    }
  },
  "cells": [
    {
      "cell_type": "code",
      "execution_count": 23,
      "metadata": {
        "colab": {
          "base_uri": "https://localhost:8080/"
        },
        "id": "Iwgn2Sq8BqTW",
        "outputId": "4717e78a-835b-4cd8-b666-c01d4870068e"
      },
      "outputs": [
        {
          "output_type": "stream",
          "name": "stdout",
          "text": [
            "21\n",
            "Fizz\n"
          ]
        }
      ],
      "source": [
        "#ランダムな整数を利用するためにrandomモジュールをインポート\n",
        "import random\n",
        "\n",
        "#変数ver1～100までのランダムな整数を代入する\n",
        "var = random.randint(1,100)\n",
        "\n",
        "#変数verの値を出力する\n",
        "print(var)\n",
        "\n",
        "#変数varが、3の倍数の場合は「Fizz」を出力する\n",
        "if var % 3 == 0:\n",
        "    print(\"Fizz\")\n",
        "elif var % 5 == 0:\n",
        "    print(\"Buzz\")\n",
        "elif var % 3 == 0 and var % 5 == 0:\n",
        "    print(\"FizzBuzz\")\n",
        "else:\n",
        "    print(var)\n"
      ]
    }
  ]
}