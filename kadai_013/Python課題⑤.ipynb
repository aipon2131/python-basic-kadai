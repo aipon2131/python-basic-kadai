{
  "nbformat": 4,
  "nbformat_minor": 0,
  "metadata": {
    "colab": {
      "provenance": []
    },
    "kernelspec": {
      "name": "python3",
      "display_name": "Python 3"
    },
    "language_info": {
      "name": "python"
    }
  },
  "cells": [
    {
      "cell_type": "code",
      "execution_count": 7,
      "metadata": {
        "colab": {
          "base_uri": "https://localhost:8080/"
        },
        "id": "ekkW7TTkMiI8",
        "outputId": "636c20fb-2f75-4670-a872-be6919c43478"
      },
      "outputs": [
        {
          "output_type": "stream",
          "name": "stdout",
          "text": [
            "121.0円\n"
          ]
        }
      ],
      "source": [
        "def total_price(price,tax_rate):\n",
        "    total = price + (price * tax_rate / 100)\n",
        "    return total\n",
        "\n",
        "total = total_price(110,10)\n",
        "\n",
        "print(f\"{total}円\")\n"
      ]
    }
  ]
}