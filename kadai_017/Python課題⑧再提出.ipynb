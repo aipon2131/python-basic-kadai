{
  "nbformat": 4,
  "nbformat_minor": 0,
  "metadata": {
    "colab": {
      "provenance": []
    },
    "kernelspec": {
      "name": "python3",
      "display_name": "Python 3"
    },
    "language_info": {
      "name": "python"
    }
  },
  "cells": [
    {
      "cell_type": "code",
      "source": [
        "class Human:\n",
        "    def __init__(self, name, age):\n",
        "        self.name = name\n",
        "        self.age = age\n",
        "\n",
        "    def check_adult(self):\n",
        "        if self.age >= 20:\n",
        "            print(f\"{self.name}は大人です。\")\n",
        "        else:\n",
        "            print(f\"{self.name}は大人ではありません。\")\n",
        "\n",
        "person1 = Human(\"侍太郎\",25)\n",
        "person2 = Human(\"侍二郎\",23)\n",
        "person3 = Human(\"侍三郎\",20)\n",
        "person4 = Human(\"侍四郎\",19)\n",
        "person5 = Human(\"侍五郎\",17)\n",
        "\n",
        "list = [person1, person2, person3, person4, person5]\n",
        "for human in list:\n",
        "    human.check_adult()\n"
      ],
      "metadata": {
        "colab": {
          "base_uri": "https://localhost:8080/"
        },
        "id": "ejeqPVJOWGaH",
        "outputId": "555219c5-dbc0-448a-f6a8-b60b51be3ea2"
      },
      "execution_count": 11,
      "outputs": [
        {
          "output_type": "stream",
          "name": "stdout",
          "text": [
            "侍太郎は大人です。\n",
            "侍二郎は大人です。\n",
            "侍三郎は大人です。\n",
            "侍四郎は大人ではありません。\n",
            "侍五郎は大人ではありません。\n"
          ]
        }
      ]
    }
  ]
}