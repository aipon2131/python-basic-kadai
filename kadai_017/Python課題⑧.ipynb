{
  "nbformat": 4,
  "nbformat_minor": 0,
  "metadata": {
    "colab": {
      "provenance": []
    },
    "kernelspec": {
      "name": "python3",
      "display_name": "Python 3"
    },
    "language_info": {
      "name": "python"
    }
  },
  "cells": [
    {
      "cell_type": "code",
      "execution_count": 21,
      "metadata": {
        "colab": {
          "base_uri": "https://localhost:8080/"
        },
        "id": "FUynoWPSqNwb",
        "outputId": "b7f19a51-fea9-481a-8bd3-50db9e10d8c3"
      },
      "outputs": [
        {
          "output_type": "stream",
          "name": "stdout",
          "text": [
            "侍太郎, 25才\n",
            "侍二郎, 23才\n"
          ]
        }
      ],
      "source": [
        "class Human:\n",
        "    def __init__(self, name, age):\n",
        "        self.name = name\n",
        "        self.age = age\n",
        "\n",
        "    def check_adult(self):\n",
        "        if self.age > 20:\n",
        "            return True\n",
        "        else:\n",
        "            return False\n",
        "\n",
        "Humans = {\"侍太郎\":25, \"侍二郎\":23, \"侍三郎\":20, \"侍四郎\":19, \"侍五郎\":17}\n",
        "\n",
        "for name,age in Humans.items():\n",
        "    human = Human(name, age)\n",
        "    if (human.check_adult()):\n",
        "        print(f\"{name}, {age}才\")\n",
        "    else:\n",
        "        continue\n"
      ]
    }
  ]
}